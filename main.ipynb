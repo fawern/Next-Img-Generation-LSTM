{
 "cells": [
  {
   "cell_type": "code",
   "execution_count": 1,
   "metadata": {},
   "outputs": [],
   "source": [
    "import numpy as np\n",
    "import pandas as pd\n",
    "\n",
    "from tensorflow.keras.datasets import mnist\n",
    "from datasets import load_dataset"
   ]
  },
  {
   "cell_type": "code",
   "execution_count": 2,
   "metadata": {},
   "outputs": [],
   "source": [
    "(train_images, train_labels), (test_images, test_labels) = mnist.load_data()"
   ]
  },
  {
   "cell_type": "code",
   "execution_count": 3,
   "metadata": {},
   "outputs": [
    {
     "name": "stdout",
     "output_type": "stream",
     "text": [
      "Train images shape : (60000, 28, 28)\n",
      "Shape of single image : (28, 28)\n"
     ]
    }
   ],
   "source": [
    "print(f\"Train images shape : {train_images.shape}\")\n",
    "print(f\"Shape of single image : {train_images[0].shape}\")"
   ]
  },
  {
   "cell_type": "code",
   "execution_count": 4,
   "metadata": {},
   "outputs": [],
   "source": [
    "train_images = train_images.astype('float32') / 255.0"
   ]
  },
  {
   "cell_type": "code",
   "execution_count": 5,
   "metadata": {},
   "outputs": [],
   "source": [
    "df = pd.DataFrame(columns=['imgs', 'labels'])\n",
    "\n",
    "df['labels'] = train_labels\n",
    "df['imgs'] = train_images.tolist()"
   ]
  },
  {
   "cell_type": "code",
   "execution_count": 6,
   "metadata": {},
   "outputs": [
    {
     "name": "stdout",
     "output_type": "stream",
     "text": [
      "Max number of images is 6742 for label :  1\n",
      "Min number of images is 5421 for label :  5\n"
     ]
    }
   ],
   "source": [
    "print('Max number of images is' , max(df['labels'].value_counts()), 'for label : ', df['labels'].value_counts().idxmax())\n",
    "print('Min number of images is' , min(df['labels'].value_counts()), 'for label : ', df['labels'].value_counts().idxmin())"
   ]
  },
  {
   "cell_type": "markdown",
   "metadata": {},
   "source": [
    "| Inputs         | Output |\n",
    "|:--------------:|:------:|\n",
    "| 0 - 1 - 2 - 3  |   4    |\n",
    "| 1 - 2 - 3 - 4  |   5    |\n",
    "| 2 - 3 - 4 - 5  |   6    |\n",
    "| 3 - 4 - 5 - 6  |   7    |\n",
    "| 4 - 5 - 6 - 7  |   8    |\n",
    "| 5 - 6 - 7 - 8  |   9    |\n"
   ]
  },
  {
   "cell_type": "code",
   "execution_count": 7,
   "metadata": {},
   "outputs": [],
   "source": [
    "class DataGenerator:\n",
    "    def __init__(self):\n",
    "        self.new_df = pd.DataFrame(columns=['input1', 'input2', 'input3', 'input4', 'output'])\n",
    "\n",
    "    @staticmethod\n",
    "    def filter_by_label(df, label):\n",
    "        return df[df['labels'] == label]\n",
    "\n",
    "    def generate_data_for_labels(self, df, label_numbers):\n",
    "        max_label_count = min(df[df['labels'].isin(label_numbers)]['labels'].value_counts())\n",
    "        for i in range(max_label_count):\n",
    "            self.new_df.loc[len(self.new_df)] = [\n",
    "                self.filter_by_label(df, label_numbers[0]).iloc[i], \n",
    "                self.filter_by_label(df, label_numbers[1]).iloc[i], \n",
    "                self.filter_by_label(df, label_numbers[2]).iloc[i], \n",
    "                self.filter_by_label(df, label_numbers[3]).iloc[i], \n",
    "                self.filter_by_label(df, label_numbers[4]).iloc[i]\n",
    "            ]\n",
    "        return self.new_df\n",
    "\n",
    "    @staticmethod\n",
    "    def generate_formula_data(n):\n",
    "        return n, (n + 1), (n + 2), (n + 3), (n + 4)\n",
    "\n",
    "    def generate_data(self, df):\n",
    "        data_formats = [list(self.generate_formula_data(i)) for i in range(10)]\n",
    "        for data_format in data_formats:\n",
    "            self.generate_data_for_labels(df, data_format)\n",
    "        return self.new_df"
   ]
  },
  {
   "cell_type": "code",
   "execution_count": 10,
   "metadata": {},
   "outputs": [],
   "source": [
    "generator = DataGenerator()\n",
    "generated_df = generator.generate_data(df)"
   ]
  },
  {
   "cell_type": "code",
   "execution_count": null,
   "metadata": {},
   "outputs": [],
   "source": []
  }
 ],
 "metadata": {
  "kernelspec": {
   "display_name": "base",
   "language": "python",
   "name": "python3"
  },
  "language_info": {
   "codemirror_mode": {
    "name": "ipython",
    "version": 3
   },
   "file_extension": ".py",
   "mimetype": "text/x-python",
   "name": "python",
   "nbconvert_exporter": "python",
   "pygments_lexer": "ipython3",
   "version": "3.10.9"
  }
 },
 "nbformat": 4,
 "nbformat_minor": 2
}
