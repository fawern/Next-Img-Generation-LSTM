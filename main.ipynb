{
 "cells": [
  {
   "cell_type": "code",
   "execution_count": 1,
   "metadata": {},
   "outputs": [],
   "source": [
    "import numpy as np\n",
    "import pandas as pd\n",
    "import matplotlib.pyplot as plt \n",
    "\n",
    "from tensorflow.keras.datasets import mnist\n",
    "\n",
    "from sklearn.model_selection import train_test_split\n",
    "\n",
    "from tensorflow.keras.models import Sequential\n",
    "from tensorflow.keras.layers import Embedding, LSTM, Dense, Reshape"
   ]
  },
  {
   "cell_type": "code",
   "execution_count": 2,
   "metadata": {},
   "outputs": [],
   "source": [
    "(train_images, train_labels), (test_images, test_labels) = mnist.load_data()"
   ]
  },
  {
   "cell_type": "code",
   "execution_count": 3,
   "metadata": {},
   "outputs": [
    {
     "name": "stdout",
     "output_type": "stream",
     "text": [
      "Train images shape : (60000, 28, 28)\n",
      "Shape of single image : (28, 28)\n"
     ]
    }
   ],
   "source": [
    "print(f\"Train images shape : {train_images.shape}\")\n",
    "print(f\"Shape of single image : {train_images[0].shape}\")"
   ]
  },
  {
   "cell_type": "code",
   "execution_count": 4,
   "metadata": {},
   "outputs": [],
   "source": [
    "train_images = train_images.astype('float32') / 255.0\n",
    "test_images = test_images.astype('float32') / 255.0"
   ]
  },
  {
   "cell_type": "code",
   "execution_count": 5,
   "metadata": {},
   "outputs": [],
   "source": [
    "df = pd.DataFrame(columns=['imgs', 'labels'])\n",
    "\n",
    "df['labels'] = train_labels\n",
    "df['imgs'] = train_images.tolist()"
   ]
  },
  {
   "cell_type": "code",
   "execution_count": 6,
   "metadata": {},
   "outputs": [
    {
     "name": "stdout",
     "output_type": "stream",
     "text": [
      "Max number of images is 6742 for label :  1\n",
      "Min number of images is 5421 for label :  5\n"
     ]
    }
   ],
   "source": [
    "print('Max number of images is' , max(df['labels'].value_counts()), 'for label : ', df['labels'].value_counts().idxmax())\n",
    "print('Min number of images is' , min(df['labels'].value_counts()), 'for label : ', df['labels'].value_counts().idxmin())"
   ]
  },
  {
   "cell_type": "markdown",
   "metadata": {},
   "source": [
    "| Inputs         | Output |\n",
    "|:--------------:|:------:|\n",
    "| 0 - 1 - 2 - 3  |   4    |\n",
    "| 1 - 2 - 3 - 4  |   5    |\n",
    "| 2 - 3 - 4 - 5  |   6    |\n",
    "| 3 - 4 - 5 - 6  |   7    |\n",
    "| 4 - 5 - 6 - 7  |   8    |\n",
    "| 5 - 6 - 7 - 8  |   9    |\n"
   ]
  },
  {
   "cell_type": "code",
   "execution_count": 7,
   "metadata": {},
   "outputs": [],
   "source": [
    "class DataGenerator:\n",
    "    def __init__(self):\n",
    "        self.new_df = pd.DataFrame(columns=['input1', 'input2', 'input3', 'input4', 'output'])\n",
    "\n",
    "    @staticmethod\n",
    "    def filter_by_label(df, label):\n",
    "        return df[df['labels'] == label]['imgs']\n",
    "\n",
    "    def generate_data_for_labels(self, df, label_numbers):\n",
    "        max_label_count = min(df[df['labels'].isin(label_numbers)]['labels'].value_counts())\n",
    "        for i in range(max_label_count):\n",
    "            self.new_df.loc[len(self.new_df)] = [\n",
    "                self.filter_by_label(df, label_numbers[0]).iloc[i], \n",
    "                self.filter_by_label(df, label_numbers[1]).iloc[i], \n",
    "                self.filter_by_label(df, label_numbers[2]).iloc[i], \n",
    "                self.filter_by_label(df, label_numbers[3]).iloc[i], \n",
    "                self.filter_by_label(df, label_numbers[4]).iloc[i]\n",
    "            ]\n",
    "        return self.new_df\n",
    "        \n",
    "    @staticmethod\n",
    "    def generate_formula_data(n):\n",
    "        return n, (n + 1), (n + 2), (n + 3), (n + 4)\n",
    "\n",
    "    def generate_data(self, df):\n",
    "        data_formats = [list(self.generate_formula_data(i)) for i in range(6)]\n",
    "        for data_format in data_formats:\n",
    "            self.generate_data_for_labels(df, data_format)\n",
    "            \n",
    "        return self.new_df"
   ]
  },
  {
   "cell_type": "code",
   "execution_count": 8,
   "metadata": {},
   "outputs": [],
   "source": [
    "generator = DataGenerator()\n",
    "generated_df = generator.generate_data(df)"
   ]
  },
  {
   "cell_type": "code",
   "execution_count": 9,
   "metadata": {},
   "outputs": [],
   "source": [
    "X = np.stack([np.array(generated_df[col].tolist()) for col in ['input1', 'input2', 'input3', 'input4']], axis=-1)\n",
    "y = np.stack([np.array(generated_df[col].tolist()) for col in ['output']], axis=-1)\n",
    "\n",
    "X = X.reshape(-1, 28, 28, 4)\n",
    "y = y.reshape(-1, 28, 28, 1)\n",
    "\n",
    "X = np.transpose(X, (0, 3, 1, 2))\n",
    "y = np.transpose(y, (0, 3, 1, 2))\n",
    "\n",
    "X = X.reshape((X.shape[0]), 4, 28*28)\n",
    "\n",
    "y = y.reshape((y.shape[0]), 28, 28)"
   ]
  },
  {
   "cell_type": "code",
   "execution_count": 10,
   "metadata": {},
   "outputs": [
    {
     "name": "stdout",
     "output_type": "stream",
     "text": [
      "Shape of X : (32947, 4, 784)\n",
      "Shape of y : (32947, 28, 28)\n"
     ]
    }
   ],
   "source": [
    "print(f\"Shape of X : {X.shape}\")\n",
    "print(f\"Shape of y : {y.shape}\")"
   ]
  },
  {
   "cell_type": "code",
   "execution_count": 11,
   "metadata": {},
   "outputs": [],
   "source": [
    "X_train, X_test, y_train, y_test = train_test_split(X, y, test_size=0.2, random_state=23)"
   ]
  },
  {
   "cell_type": "code",
   "execution_count": 12,
   "metadata": {},
   "outputs": [],
   "source": [
    "model = Sequential()\n",
    "\n",
    "model.add(LSTM(128, activation='relu', input_shape=(4, 28*28), return_sequences=True))\n",
    "model.add(LSTM(64, activation='relu'))\n",
    "\n",
    "model.add(Dense((28*28), activation='linear'))\n",
    "model.add(Reshape((28, 28)))\n",
    "\n",
    "model.compile(\n",
    "    optimizer='adam', loss='mean_squared_error', metrics='accuracy'\n",
    ")"
   ]
  },
  {
   "cell_type": "code",
   "execution_count": 13,
   "metadata": {},
   "outputs": [
    {
     "name": "stdout",
     "output_type": "stream",
     "text": [
      "824/824 [==============================] - 26s 23ms/step - loss: 0.0578 - accuracy: 0.0967\n"
     ]
    },
    {
     "data": {
      "text/plain": [
       "<keras.callbacks.History at 0x27ca72513f0>"
      ]
     },
     "execution_count": 13,
     "metadata": {},
     "output_type": "execute_result"
    }
   ],
   "source": [
    "model.fit(X_train, y_train, epochs=1)"
   ]
  },
  {
   "cell_type": "code",
   "execution_count": 19,
   "metadata": {},
   "outputs": [],
   "source": [
    "model.save(\"./model/imggenerator.h5\")"
   ]
  },
  {
   "cell_type": "code",
   "execution_count": 14,
   "metadata": {},
   "outputs": [],
   "source": [
    "def img_generator(n):\n",
    "    test_images = X_test[n : n+5]\n",
    "\n",
    "    generated_image = model.predict(test_images)\n",
    "    plt.figure(figsize=(14, 4))\n",
    "\n",
    "    for i in range(4):\n",
    "        plt.subplot(1, 6, i + 1)\n",
    "        plt.imshow(test_images[0, i].reshape((28, 28)), cmap='gray')\n",
    "        plt.axis('off')\n",
    "\n",
    "    plt.subplot(1, 6, 5)\n",
    "    plt.imshow(generated_image[0])\n",
    "    plt.axis('off')\n",
    "\n",
    "    plt.subplot(1, 6, 6)\n",
    "    plt.imshow(y_test[n])\n",
    "    plt.axis('off')\n",
    "\n",
    "    plt.show()\n"
   ]
  },
  {
   "cell_type": "code",
   "execution_count": 15,
   "metadata": {},
   "outputs": [
    {
     "name": "stdout",
     "output_type": "stream",
     "text": [
      "1/1 [==============================] - 1s 690ms/step\n"
     ]
    },
    {
     "data": {
      "image/png": "[encoded data removed]",
      "text/plain": [
       "<Figure size 1400x400 with 6 Axes>"
      ]
     },
     "metadata": {},
     "output_type": "display_data"
    }
   ],
   "source": [
    "img_generator(1)"
   ]
  }
 ],
 "metadata": {
  "kernelspec": {
   "display_name": "base",
   "language": "python",
   "name": "python3"
  },
  "language_info": {
   "codemirror_mode": {
    "name": "ipython",
    "version": 3
   },
   "file_extension": ".py",
   "mimetype": "text/x-python",
   "name": "python",
   "nbconvert_exporter": "python",
   "pygments_lexer": "ipython3",
   "version": "3.10.9"
  }
 },
 "nbformat": 4,
 "nbformat_minor": 2
}
